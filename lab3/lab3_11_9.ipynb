{
 "cells": [
  {
   "cell_type": "code",
   "execution_count": 15,
   "id": "d7345b55-b39f-4563-ba15-a738e68e0847",
   "metadata": {},
   "outputs": [
    {
     "name": "stdout",
     "output_type": "stream",
     "text": [
      "Ritesh\n"
     ]
    }
   ],
   "source": [
    "strn = \"Keshav 00589 Ritesh\"\n",
    "mname = ''\n",
    "flag = 0\n",
    "for n in strn:\n",
    "    if n == 'R':\n",
    "        flag = 1\n",
    "    if flag == 1:\n",
    "        mname += n\n",
    "print(mname)"
   ]
  },
  {
   "cell_type": "code",
   "execution_count": 33,
   "id": "1314635a-9af3-4973-b7b6-6a4528f429ef",
   "metadata": {},
   "outputs": [
    {
     "name": "stdin",
     "output_type": "stream",
     "text": [
      "Number:  17\n"
     ]
    },
    {
     "name": "stdout",
     "output_type": "stream",
     "text": [
      "Prime\n"
     ]
    }
   ],
   "source": [
    "# WAP to find a number is Prime or not.\n",
    "\n",
    "n = int(input(\"Number: \"))\n",
    "\n",
    "if n == 1:\n",
    "    print(\"Not Prime\")\n",
    "    \n",
    "if n == 2:\n",
    "    print(\"Prime\")\n",
    "    \n",
    "for i in range(2, n//2):\n",
    "    if n % i == 0:\n",
    "        print(\"Not Prime\")\n",
    "        break    \n",
    "else:\n",
    "        print(\"Prime\")"
   ]
  },
  {
   "cell_type": "code",
   "execution_count": 41,
   "id": "8575f700-6a0c-4a5b-afa1-b4f7fa70dbd5",
   "metadata": {},
   "outputs": [
    {
     "name": "stdin",
     "output_type": "stream",
     "text": [
      "Number:  123\n"
     ]
    },
    {
     "name": "stdout",
     "output_type": "stream",
     "text": [
      "Not Palindrome\n"
     ]
    }
   ],
   "source": [
    "# WAP to find the given numberis palindrome or not\n",
    "\n",
    "m = int(input(\"Number: \"))\n",
    "\n",
    "num = m\n",
    "rev = 0\n",
    "while (num != 0):\n",
    "    rev = rev * 10 + num % 10\n",
    "    num = num // 10\n",
    "if m == rev:\n",
    "    print(\"Palindrome\")\n",
    "else:\n",
    "    print(\"Not Palindrome\")"
   ]
  },
  {
   "cell_type": "code",
   "execution_count": 47,
   "id": "8614be71-2a73-4fe2-8dfe-36d7d8ebbaba",
   "metadata": {},
   "outputs": [
    {
     "name": "stdin",
     "output_type": "stream",
     "text": [
      "Percentage[%]:  78\n"
     ]
    },
    {
     "name": "stdout",
     "output_type": "stream",
     "text": [
      "Grade is B\n"
     ]
    }
   ],
   "source": [
    "# WAP TO FIND STUDENT GRADE USING PERCENTAGE\n",
    "\n",
    "p = int(input(\"Percentage[%]: \"))\n",
    "if p > 90:\n",
    "    print(\"Grade is A+\")\n",
    "elif p > 80:\n",
    "    print(\"Grade is A\")\n",
    "elif p > 70:\n",
    "    print(\"Grade is B\")\n",
    "elif p > 60:\n",
    "    print(\"Grade is C\")\n",
    "elif p > 50:\n",
    "    print(\"Grade is D\")\n",
    "else:\n",
    "    print(\"Grade is F\")"
   ]
  },
  {
   "cell_type": "code",
   "execution_count": 53,
   "id": "2cebffe2-d6b4-4305-960d-3420bf93a8cd",
   "metadata": {},
   "outputs": [
    {
     "name": "stdin",
     "output_type": "stream",
     "text": [
      "First number:  11\n",
      "Second number:  12\n",
      "Choose operation:\n",
      "> +\n",
      "> -\n",
      "> *\n",
      "> /\n",
      "Operation:  /\n"
     ]
    },
    {
     "name": "stdout",
     "output_type": "stream",
     "text": [
      "11 / 12 = 0.9166666666666666\n"
     ]
    }
   ],
   "source": [
    "# WAP to create a simple console based calculator\n",
    "\n",
    "a = int(input(\"First number: \"))\n",
    "b = int(input(\"Second number: \"))\n",
    "op = input(\"Choose operation:\\n> +\\n> -\\n> *\\n> /\\nOperation: \")\n",
    "if op == '+':\n",
    "    print(f\"{a} + {b} = {a + b}\")\n",
    "elif op == '-':\n",
    "    print(f\"{a} - {b} = {a - b}\")\n",
    "elif op == '*':\n",
    "    print(f\"{a} * {b} = {a * b}\")\n",
    "elif op == '/':\n",
    "    print(f\"{a} / {b} = {a / b}\")\n",
    "else:\n",
    "    print(f\"Invalid Operation\")"
   ]
  }
 ],
 "metadata": {
  "kernelspec": {
   "display_name": "Python 3 (ipykernel)",
   "language": "python",
   "name": "python3"
  },
  "language_info": {
   "codemirror_mode": {
    "name": "ipython",
    "version": 3
   },
   "file_extension": ".py",
   "mimetype": "text/x-python",
   "name": "python",
   "nbconvert_exporter": "python",
   "pygments_lexer": "ipython3",
   "version": "3.12.4"
  }
 },
 "nbformat": 4,
 "nbformat_minor": 5
}
