{
 "cells": [
  {
   "cell_type": "code",
   "execution_count": 9,
   "id": "bbf33e1c-51b6-4236-bd40-aa0eee2d7a27",
   "metadata": {},
   "outputs": [
    {
     "name": "stdin",
     "output_type": "stream",
     "text": [
      "X cordinate of p1 1\n",
      "Y cordinate of p1 2\n",
      "X cordinate of p2 3\n",
      "Y cordinate of p2 4\n"
     ]
    },
    {
     "name": "stdout",
     "output_type": "stream",
     "text": [
      "The distance is: 4.47213595499958\n"
     ]
    }
   ],
   "source": [
    "# Write a program in python to compute distance between two points, taking input from user\n",
    "p1 = []\n",
    "p2 = []\n",
    "\n",
    "x1 = int(input(\"X cordinate of p1\"))\n",
    "p1.append(x1)\n",
    "y1 = int(input(\"Y cordinate of p1\"))\n",
    "p1.append(y1)\n",
    "\n",
    "x2 = int(input(\"X cordinate of p2\"))\n",
    "p2.append(x2)\n",
    "y2 = int(input(\"Y cordinate of p2\"))\n",
    "p2.append(y2)\n",
    "\n",
    "dist = ((p2[0]**2 - p1[0]**2) + (p2[1]**2 - p1[1]**2))**0.5\n",
    "print(\"The distance is:\", dist)"
   ]
  },
  {
   "cell_type": "code",
   "execution_count": 38,
   "id": "fdbc542a-bc22-415e-ad3c-5460a62c3eec",
   "metadata": {},
   "outputs": [
    {
     "name": "stdin",
     "output_type": "stream",
     "text": [
      "Radius of circle is:  2.55\n"
     ]
    },
    {
     "name": "stdout",
     "output_type": "stream",
     "text": [
      "Circumference is  16.014 and Area is  20.418\n"
     ]
    }
   ],
   "source": [
    "# Write a program with radius, and circle\n",
    "import lab3_pi as constant\n",
    "r = float(input(\"Radius of circle is: \"))\n",
    "circ = 2*(constant.pi)*r\n",
    "area = (constant.pi)*r**2\n",
    "print(f\"Circumference is {circ: .3f} and Area is {area: .3f}\")"
   ]
  },
  {
   "cell_type": "code",
   "execution_count": 13,
   "id": "a0580ff3-a547-4d10-868a-8912ded896ce",
   "metadata": {},
   "outputs": [
    {
     "name": "stdin",
     "output_type": "stream",
     "text": [
      "Number to check:  7\n"
     ]
    },
    {
     "name": "stdout",
     "output_type": "stream",
     "text": [
      "Odd Number!\n"
     ]
    }
   ],
   "source": [
    "# Check even odd\n",
    "num = int(input(\"Number to check: \"))\n",
    "if num % 2 == 0:\n",
    "    print(\"Even Number!\")\n",
    "else:\n",
    "    print(\"Odd Number!\")"
   ]
  },
  {
   "cell_type": "code",
   "execution_count": 94,
   "id": "94636351-de79-4cd6-8afa-6596595eba15",
   "metadata": {},
   "outputs": [
    {
     "name": "stdin",
     "output_type": "stream",
     "text": [
      "Number of Numbers: 25\n"
     ]
    },
    {
     "name": "stdout",
     "output_type": "stream",
     "text": [
      "List is: [70, 46, 33, 50, 69, 10, 86, 11, 96, 29, 22, 84, 34, 81, 9, 7, 56, 21, 61, 63, 9, 48, 7, 96, 34]\n",
      "Mean is 45.28\n",
      "Median is 46\n"
     ]
    }
   ],
   "source": [
    "# Input many random elements' list, and compute mean, median, mode\n",
    "import random\n",
    "l = []\n",
    "ttl = int(input(\"Number of Numbers:\"))\n",
    "for _ in range(ttl):\n",
    "    l.append(random.randint(1, 101))\n",
    "\n",
    "print(\"List is:\", l)\n",
    "\n",
    "sum = 0\n",
    "for i in l:\n",
    "    sum += i\n",
    "mean = sum/ttl\n",
    "\n",
    "median = sorted(l)[ttl//2]\n",
    "\n",
    "print(f\"Mean is {mean}\\nMedian is {median}\")"
   ]
  },
  {
   "cell_type": "code",
   "execution_count": 11,
   "id": "5874f847-3539-48ba-a52d-2ceb3b57b3be",
   "metadata": {},
   "outputs": [
    {
     "name": "stdin",
     "output_type": "stream",
     "text": [
      "Number of Numbers: 100\n"
     ]
    },
    {
     "name": "stdout",
     "output_type": "stream",
     "text": [
      "odd lists: [93, 56, 60, 84, 24, 13, 78, 93, 28, 85, 60, 50, 10, 16, 32, 75, 64, 52, 86, 26, 82, 91, 90, 86, 46, 71, 27, 7, 27, 19, 39, 91, 66, 8, 24, 23, 64, 63, 81, 31, 44, 33, 101, 9, 44, 93, 22, 80, 72, 1] even lists: [66, 46, 2, 53, 77, 41, 72, 59, 48, 60, 47, 41, 58, 95, 6, 22, 2, 29, 12, 85, 37, 45, 17, 43, 45, 24, 65, 80, 38, 24, 13, 64, 32, 16, 79, 86, 84, 58, 91, 55, 8, 28, 34, 1, 88, 69, 50, 75, 43, 18]\n"
     ]
    }
   ],
   "source": [
    "#Slice list into list of 5 elements, then merge even and odd list\n",
    "import random\n",
    "l = []\n",
    "ttl = int(input(\"Number of Numbers:\"))\n",
    "for _ in range(ttl):\n",
    "    l.append(random.randint(1, 101))\n",
    "nums = ttl//5\n",
    "listA = []\n",
    "\n",
    "for i in range(nums):\n",
    "    listA.append(l[i*5:(i*5 + 5)])\n",
    "\n",
    "lst1 = []\n",
    "lst2 = []\n",
    "for i in range(nums):\n",
    "    if i%2==0:\n",
    "        lst1.extend(listA[i])\n",
    "    else:\n",
    "        lst2.extend(listA[i])\n",
    "    \n",
    "print(\"odd lists:\", lst1, \"even lists:\", lst2)"
   ]
  },
  {
   "cell_type": "code",
   "execution_count": null,
   "id": "1111e8b7-b1d4-4f38-9c9f-4ede57f06683",
   "metadata": {},
   "outputs": [],
   "source": []
  }
 ],
 "metadata": {
  "kernelspec": {
   "display_name": "Python 3 (ipykernel)",
   "language": "python",
   "name": "python3"
  },
  "language_info": {
   "codemirror_mode": {
    "name": "ipython",
    "version": 3
   },
   "file_extension": ".py",
   "mimetype": "text/x-python",
   "name": "python",
   "nbconvert_exporter": "python",
   "pygments_lexer": "ipython3",
   "version": "3.12.4"
  }
 },
 "nbformat": 4,
 "nbformat_minor": 5
}
