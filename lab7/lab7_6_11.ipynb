{
 "cells": [
  {
   "cell_type": "code",
   "execution_count": 3,
   "id": "0e16a4f1-1f10-40da-b632-eda841b4e566",
   "metadata": {},
   "outputs": [
    {
     "name": "stdin",
     "output_type": "stream",
     "text": [
      "Pin:  123\n"
     ]
    },
    {
     "name": "stdout",
     "output_type": "stream",
     "text": [
      "Impostor!\n"
     ]
    },
    {
     "name": "stdin",
     "output_type": "stream",
     "text": [
      "Pin:  125\n"
     ]
    },
    {
     "name": "stdout",
     "output_type": "stream",
     "text": [
      "Impostor!\n"
     ]
    },
    {
     "name": "stdin",
     "output_type": "stream",
     "text": [
      "Pin:  12\n"
     ]
    },
    {
     "name": "stdout",
     "output_type": "stream",
     "text": [
      "Impostor!\n"
     ]
    },
    {
     "name": "stdin",
     "output_type": "stream",
     "text": [
      "Pin:  143\n"
     ]
    },
    {
     "name": "stdout",
     "output_type": "stream",
     "text": [
      "Impostor!\n"
     ]
    },
    {
     "name": "stdin",
     "output_type": "stream",
     "text": [
      "Pin:  213\n"
     ]
    },
    {
     "name": "stdout",
     "output_type": "stream",
     "text": [
      "Impostor!\n"
     ]
    },
    {
     "name": "stdin",
     "output_type": "stream",
     "text": [
      "Pin:  16\n"
     ]
    },
    {
     "name": "stdout",
     "output_type": "stream",
     "text": [
      "Impostor!\n"
     ]
    },
    {
     "name": "stdin",
     "output_type": "stream",
     "text": [
      "Pin:  123\n"
     ]
    },
    {
     "name": "stdout",
     "output_type": "stream",
     "text": [
      "Impostor!\n"
     ]
    },
    {
     "name": "stdin",
     "output_type": "stream",
     "text": [
      "Pin:  1234\n"
     ]
    },
    {
     "name": "stdout",
     "output_type": "stream",
     "text": [
      "Successfully logged in!\n",
      "Current Balance: $1000\n",
      "Balance after deposit: $1200\n",
      "Balance after withdrawal: $1050\n",
      "\n",
      "Transaction History:\n",
      "Deposited $200\n",
      "Withdrew $150\n"
     ]
    }
   ],
   "source": [
    "# Make ATM class and implement functionalities\n",
    "\n",
    "class ATM:\n",
    "    def __init__(self, card_num, pin, bal):\n",
    "        self.card_num = card_num\n",
    "        self.pin = pin\n",
    "        self.bal = bal\n",
    "        self.his = []\n",
    "        self.loggedin = False\n",
    "\n",
    "    def login(self):\n",
    "        while not self.loggedin:\n",
    "            pin = input(\"Pin: \")\n",
    "            if pin == self.pin:\n",
    "                self.loggedin = True\n",
    "                print(\"Successfully logged in!\")\n",
    "            else:\n",
    "                print(\"Impostor!\")\n",
    "\n",
    "    def chk_login(self):\n",
    "        if not self.loggedin:\n",
    "            print(\"Please login first!\")\n",
    "            self.login()\n",
    "        else:\n",
    "            return\n",
    "    \n",
    "    def chk_bal(self):\n",
    "        self.chk_login()\n",
    "        return f\"${self.bal}\"\n",
    "\n",
    "    def deposit(self, amt):\n",
    "        self.chk_login()\n",
    "        if amt < 0:\n",
    "            return \"Invalid\"\n",
    "        self.bal += amt\n",
    "        self.his.append(f\"Deposited ${amt}\")\n",
    "        \n",
    "    def withdraw(self, amt):\n",
    "        self.chk_login()\n",
    "        if amt < 0:\n",
    "            return \"Invalid\"\n",
    "        if amt > self.bal:\n",
    "            return \"Insufficient Balance\"\n",
    "        self.bal -= amt\n",
    "        self.his.append(f\"Withdrew ${amt}\")\n",
    "\n",
    "    def history(self):\n",
    "        self.chk_login()\n",
    "        return \"\\n\".join(self.his)\n",
    "\n",
    "\n",
    "atm = ATM(card_num=\"1234-5678-9876-5432\", pin=\"1234\", bal=1000)\n",
    "\n",
    "atm.login()\n",
    "\n",
    "print(\"Current Balance:\", atm.chk_bal())\n",
    "\n",
    "atm.deposit(200)\n",
    "print(\"Balance after deposit:\", atm.chk_bal())\n",
    "\n",
    "atm.withdraw(150)\n",
    "print(\"Balance after withdrawal:\", atm.chk_bal())\n",
    "\n",
    "print(\"\\nTransaction History:\")\n",
    "print(atm.history())"
   ]
  },
  {
   "cell_type": "code",
   "execution_count": null,
   "id": "03091c9f-b009-4bd3-be4c-782dfb7f3ed8",
   "metadata": {},
   "outputs": [],
   "source": []
  }
 ],
 "metadata": {
  "kernelspec": {
   "display_name": "Python 3 (ipykernel)",
   "language": "python",
   "name": "python3"
  },
  "language_info": {
   "codemirror_mode": {
    "name": "ipython",
    "version": 3
   },
   "file_extension": ".py",
   "mimetype": "text/x-python",
   "name": "python",
   "nbconvert_exporter": "python",
   "pygments_lexer": "ipython3",
   "version": "3.12.4"
  }
 },
 "nbformat": 4,
 "nbformat_minor": 5
}
