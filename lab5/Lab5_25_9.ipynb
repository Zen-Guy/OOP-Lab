{
 "cells": [
  {
   "cell_type": "code",
   "execution_count": 4,
   "id": "63ac7c9b-d1a8-4f7b-8726-102676581477",
   "metadata": {},
   "outputs": [
    {
     "name": "stdout",
     "output_type": "stream",
     "text": [
      "[3, 6, 15, 21, 39, 24, 27]\n"
     ]
    }
   ],
   "source": [
    "# 1) WAPP to triple all numbers in given list using map\n",
    "def triple(n):\n",
    "    return n*3\n",
    "\n",
    "glist = [1, 2, 5, 7, 13, 8, 9]\n",
    "\n",
    "flist = list(map(triple, glist))\n",
    "print(flist)"
   ]
  },
  {
   "cell_type": "code",
   "execution_count": 6,
   "id": "10e3370c-f6f8-40ea-a96b-459105dff600",
   "metadata": {},
   "outputs": [
    {
     "name": "stdout",
     "output_type": "stream",
     "text": [
      "[16, 19, 14]\n"
     ]
    }
   ],
   "source": [
    "# 2) WAPP to add three given lists using map and lambda\n",
    "l1 = [1, 2, 4]\n",
    "l2 = [4, 2, 1]\n",
    "l3 = [11, 15, 9]\n",
    "\n",
    "res = list(map(lambda a, b, c: a + b + c, l1, l2, l3))\n",
    "print(res)"
   ]
  },
  {
   "cell_type": "code",
   "execution_count": 14,
   "id": "6757d93b-c161-496e-b3ee-08d1dfa68cbb",
   "metadata": {},
   "outputs": [
    {
     "name": "stdout",
     "output_type": "stream",
     "text": [
      "[['h', 'i'], ['w', 'h', 'o'], ['a', 'r', 'e'], ['y', 'o', 'u'], ['?']]\n"
     ]
    }
   ],
   "source": [
    "# 3) WAPP to listify the list of given strings individually using map\n",
    "slist = ['hi', 'who', 'are', 'you', '?']\n",
    "\n",
    "res = list(map(lambda a: list(a), slist))\n",
    "print(res)"
   ]
  },
  {
   "cell_type": "code",
   "execution_count": 54,
   "id": "efcde73b-e985-4557-b570-69a029bfa028",
   "metadata": {},
   "outputs": [
    {
     "name": "stdout",
     "output_type": "stream",
     "text": [
      "[1, 3, 9, 27, 81]\n"
     ]
    }
   ],
   "source": [
    "# 4) WAPP to create a list containing the power of said number in bases raised to the corresponding number in index\n",
    "base = 3\n",
    "len = 5\n",
    "\n",
    "indices = list(range(len))\n",
    "\n",
    "res = list(map(lambda x: base**x, indices))\n",
    "print(res)"
   ]
  },
  {
   "cell_type": "code",
   "execution_count": 20,
   "id": "1d78ba2e-e634-4cc9-b287-f3570f829895",
   "metadata": {},
   "outputs": [
    {
     "name": "stdout",
     "output_type": "stream",
     "text": [
      "[1, 4, 9, 25, 81, 100]\n"
     ]
    }
   ],
   "source": [
    "# 5) WAPP to square the elements in a list using map\n",
    "l = [1, 2, 3, 5, 9, 10]\n",
    "\n",
    "res = list(map(lambda x: x**2, l))\n",
    "print(res)"
   ]
  },
  {
   "cell_type": "code",
   "execution_count": 26,
   "id": "ab8e73f7-aa0f-463e-ba1c-a42b729e3dd5",
   "metadata": {},
   "outputs": [
    {
     "name": "stdin",
     "output_type": "stream",
     "text": [
      "Sequence:  hello\n"
     ]
    },
    {
     "name": "stdout",
     "output_type": "stream",
     "text": [
      "Uppercase: ['O', 'E', 'L', 'H'] \n",
      "Lowercase: ['o', 'e', 'l', 'h']\n"
     ]
    }
   ],
   "source": [
    "# 6) WAPP to convert all characters into uppercase and lowercase and eliminate duplicate letters from given sequence using map\n",
    "seq = input(\"Sequence: \")\n",
    "\n",
    "ures = list(map(lambda a: a.upper(), list(set(seq))))\n",
    "lres = list(map(lambda a: a.lower(), list(set(seq))))\n",
    "\n",
    "print('Uppercase:', ures,'\\nLowercase:', lres)"
   ]
  },
  {
   "cell_type": "code",
   "execution_count": 28,
   "id": "5193a97b-844a-4516-9dd7-80962b69b85f",
   "metadata": {},
   "outputs": [
    {
     "name": "stdout",
     "output_type": "stream",
     "text": [
      "Add: [3, 11, 21, 98] \n",
      "Subtract: [1, 5, 11, 84]\n"
     ]
    }
   ],
   "source": [
    "# 7) WAPP to add given lists and find difference using map\n",
    "l1 = [1, 3, 5, 7]\n",
    "l2 = [2, 8, 16, 91]\n",
    "\n",
    "def add(a, b):\n",
    "    return a + b\n",
    "\n",
    "def subt(a, b):\n",
    "    return b - a\n",
    "\n",
    "ares = list(map(add, l1, l2))\n",
    "sres = list(map(subt, l1, l2))\n",
    "\n",
    "print('Add:', ares,'\\nSubtract:', sres)"
   ]
  },
  {
   "cell_type": "code",
   "execution_count": 34,
   "id": "f1260e58-61e6-4562-a11d-f241802a2417",
   "metadata": {},
   "outputs": [
    {
     "name": "stdout",
     "output_type": "stream",
     "text": [
      "List: ['1', '2', '4'] \n",
      "Tuple: ['4', '2', '1']\n"
     ]
    }
   ],
   "source": [
    "# 8) WAPP to convert given list and tuple of integers in a list of strings\n",
    "lst = [1, 2, 4]\n",
    "tup = (4, 2, 1)\n",
    "\n",
    "lres = list(map(lambda n: str(n), lst))\n",
    "tres = list(map(lambda n: str(n), tup))\n",
    "\n",
    "print('List:', lres,'\\nTuple:', tres)"
   ]
  },
  {
   "cell_type": "code",
   "execution_count": 36,
   "id": "d6f88fd6-fb46-42cc-977c-87adfc83c057",
   "metadata": {},
   "outputs": [
    {
     "name": "stdout",
     "output_type": "stream",
     "text": [
      "['a', 9, 'hi', 27]\n"
     ]
    }
   ],
   "source": [
    "# 9) WAPP to create a new list taking elements from tuple and convert a string value into integer\n",
    "def fun(a):\n",
    "    try:\n",
    "        return int(a)\n",
    "    except:\n",
    "        return a\n",
    "\n",
    "tup = ('a', '9', 'hi', '27')\n",
    "\n",
    "res = list(map(fun, tup))\n",
    "print(res)"
   ]
  },
  {
   "cell_type": "code",
   "execution_count": 46,
   "id": "a7298e8d-9e96-49a1-b35b-8ef16d5a2de9",
   "metadata": {},
   "outputs": [
    {
     "name": "stdin",
     "output_type": "stream",
     "text": [
      "N:  5\n"
     ]
    },
    {
     "name": "stdout",
     "output_type": "stream",
     "text": [
      "[0, 1, 1, 4, 9]\n"
     ]
    }
   ],
   "source": [
    "# 10) WAPP to compute square of first N Fibonnaci numbers\n",
    "n = int(input('N: '))\n",
    "count = 0\n",
    "a = 0\n",
    "b = 1\n",
    "\n",
    "fibl = []\n",
    "while(count < n):\n",
    "    fibl.append(a)\n",
    "    a,b = b, a+b\n",
    "    count += 1\n",
    "\n",
    "res = list(map(lambda x: x**2, fibl))\n",
    "print(res)"
   ]
  },
  {
   "cell_type": "code",
   "execution_count": 52,
   "id": "a9df8a56-bf4d-491c-ba89-20446f33429b",
   "metadata": {},
   "outputs": [
    {
     "name": "stdin",
     "output_type": "stream",
     "text": [
      "5 integers:  34\n",
      "5 integers:  35\n",
      "5 integers:  25\n",
      "5 integers:  3467\n",
      "5 integers:  98\n"
     ]
    },
    {
     "name": "stdout",
     "output_type": "stream",
     "text": [
      "[34, 35, 25, 3467, 98]\n"
     ]
    }
   ],
   "source": [
    "# 11) WAPP to compute sum of elements of an array of integers. Use map\n",
    "l = []\n",
    "for i in range(5):\n",
    "    a = input('5 integers: ')\n",
    "    l.append(a)\n",
    "\n",
    "res = list(map(lambda x: int(x), l))\n",
    "print(res)"
   ]
  },
  {
   "cell_type": "code",
   "execution_count": null,
   "id": "4527be77-fb7f-42f3-9426-325b006fce3d",
   "metadata": {},
   "outputs": [],
   "source": []
  }
 ],
 "metadata": {
  "kernelspec": {
   "display_name": "Python 3 (ipykernel)",
   "language": "python",
   "name": "python3"
  },
  "language_info": {
   "codemirror_mode": {
    "name": "ipython",
    "version": 3
   },
   "file_extension": ".py",
   "mimetype": "text/x-python",
   "name": "python",
   "nbconvert_exporter": "python",
   "pygments_lexer": "ipython3",
   "version": "3.12.4"
  }
 },
 "nbformat": 4,
 "nbformat_minor": 5
}
