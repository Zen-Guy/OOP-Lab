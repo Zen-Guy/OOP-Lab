{
 "cells": [
  {
   "cell_type": "code",
   "execution_count": 9,
   "id": "ee09e0bf-d647-4bb3-8929-d5db7ee4a625",
   "metadata": {},
   "outputs": [
    {
     "name": "stdout",
     "output_type": "stream",
     "text": [
      "[1, 2, 3, 4, 6]\n",
      "[1, 2, 3, 4, 5, 6]\n",
      "[1, 2, 3, 4, 5]\n",
      "4\n",
      "[1, 2, 3, 4]\n",
      "[4, 3, 2, 1]\n",
      "[1, 2, 3, 4]\n",
      "[1, 2, 3, 4]\n",
      "[]\n"
     ]
    }
   ],
   "source": [
    "# WAPP to use various in-built function of list\n",
    "\n",
    "l = [1, 2, 3, 4]\n",
    "\n",
    "l.append(6)\n",
    "print(l)\n",
    "\n",
    "l.insert(4, 5)\n",
    "print(l)\n",
    "\n",
    "l.remove(6)\n",
    "print(l)\n",
    "\n",
    "print(l.index(5))\n",
    "\n",
    "l.pop()\n",
    "print(l)\n",
    "\n",
    "l.reverse()\n",
    "print(l)\n",
    "\n",
    "l.sort()\n",
    "print(l)\n",
    "\n",
    "print(l.copy())\n",
    "\n",
    "l.clear()\n",
    "print(l)"
   ]
  },
  {
   "cell_type": "code",
   "execution_count": 11,
   "id": "a6460bb1-d3bd-4b14-a1e6-155a64781d78",
   "metadata": {},
   "outputs": [
    {
     "name": "stdout",
     "output_type": "stream",
     "text": [
      "10\n"
     ]
    }
   ],
   "source": [
    "# Write a program in python to pass a list as an argument in a function\n",
    "\n",
    "def sum_list(lst):\n",
    "    total = 0\n",
    "    for i in lst:\n",
    "        total += i\n",
    "    return total\n",
    "\n",
    "l = [1, 2, 3, 4]\n",
    "print(sum_list(l))"
   ]
  },
  {
   "cell_type": "code",
   "execution_count": 15,
   "id": "9e882199-25bf-43ea-b07e-9608c518b5a7",
   "metadata": {},
   "outputs": [
    {
     "name": "stdout",
     "output_type": "stream",
     "text": [
      "Cubes of the elements: [1, 8, 27, 64]\n"
     ]
    }
   ],
   "source": [
    "# Write a program to take variable length argument in a function and to perform cube of each element\n",
    "\n",
    "def cube(*args):\n",
    "    cubes = [x ** 3 for x in args]\n",
    "    return cubes\n",
    "\n",
    "result = cube(1, 2, 3, 4)\n",
    "print(\"Cubes of the elements:\", result)"
   ]
  },
  {
   "cell_type": "code",
   "execution_count": 27,
   "id": "cc8329b2-753e-49cf-b1cd-03c4d7db7948",
   "metadata": {},
   "outputs": [
    {
     "name": "stdout",
     "output_type": "stream",
     "text": [
      "Move disk 1 from A to C\n",
      "Move disk 2 from A to B\n",
      "Move disk 1 from C to B\n",
      "Move disk 3 from A to C\n",
      "Move disk 1 from B to A\n",
      "Move disk 2 from B to C\n",
      "Move disk 1 from A to C\n"
     ]
    }
   ],
   "source": [
    "# WAP to solve tower of hanoi problem for n = 3 disk\n",
    "\n",
    "def toh(n, source, target, auxiliary):\n",
    "    if n == 1:\n",
    "        print(f\"Move disk 1 from {source} to {target}\")\n",
    "        return\n",
    "    toh(n - 1, source, auxiliary, target)\n",
    "    print(f\"Move disk {n} from {source} to {target}\")\n",
    "    toh(n - 1, auxiliary, target, source)\n",
    "\n",
    "n = 3\n",
    "\n",
    "source_peg = 'A'\n",
    "target_peg = 'C'\n",
    "auxiliary_peg = 'B'\n",
    "\n",
    "toh(n, source_peg, target_peg, auxiliary_peg)\n"
   ]
  },
  {
   "cell_type": "code",
   "execution_count": 19,
   "id": "4d85ae3a-633c-4eff-911e-733d62505968",
   "metadata": {},
   "outputs": [
    {
     "name": "stdin",
     "output_type": "stream",
     "text": [
      "String:  HeUjDFkjkkg\n"
     ]
    },
    {
     "name": "stdout",
     "output_type": "stream",
     "text": [
      "Uppercase chars: 4\n",
      "Lowercase chars: 7\n"
     ]
    }
   ],
   "source": [
    "# WAP that accepts strings and calculate the number of uppercase and lowercase letters in strings\n",
    "\n",
    "def counts(s):\n",
    "    upc = 0\n",
    "    lowc = 0\n",
    "    \n",
    "    for c in s:\n",
    "        if c.isupper():\n",
    "            upc += 1\n",
    "        elif c.islower():\n",
    "            lowc += 1\n",
    "    return upc, lowc\n",
    "\n",
    "strn = input(\"String: \")\n",
    "up, low = counts(strn)\n",
    "print(f'Uppercase chars: {up}\\nLowercase chars: {low}')"
   ]
  },
  {
   "cell_type": "code",
   "execution_count": 25,
   "id": "01d9532a-0a5a-461e-ab01-e30049bff3da",
   "metadata": {},
   "outputs": [
    {
     "name": "stdin",
     "output_type": "stream",
     "text": [
      "Enter the first number:  12\n",
      "Enter the second number:  54\n"
     ]
    },
    {
     "name": "stdout",
     "output_type": "stream",
     "text": [
      "The GCD of 12 and 54 is: 6\n"
     ]
    }
   ],
   "source": [
    "# WAP to compute GCD of two number\n",
    "\n",
    "def gcd(a, b):\n",
    "    while b:\n",
    "        a, b = b, a % b\n",
    "    return a\n",
    "\n",
    "num1 = int(input(\"Enter the first number: \"))\n",
    "num2 = int(input(\"Enter the second number: \"))\n",
    "\n",
    "gcd = gcd(num1, num2)\n",
    "\n",
    "print(f\"The GCD of {num1} and {num2} is: {gcd}\")"
   ]
  }
 ],
 "metadata": {
  "kernelspec": {
   "display_name": "Python 3 (ipykernel)",
   "language": "python",
   "name": "python3"
  },
  "language_info": {
   "codemirror_mode": {
    "name": "ipython",
    "version": 3
   },
   "file_extension": ".py",
   "mimetype": "text/x-python",
   "name": "python",
   "nbconvert_exporter": "python",
   "pygments_lexer": "ipython3",
   "version": "3.12.4"
  }
 },
 "nbformat": 4,
 "nbformat_minor": 5
}
