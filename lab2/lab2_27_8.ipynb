{
 "cells": [
  {
   "cell_type": "markdown",
   "id": "319911aa-29b3-4e37-a5df-7d6cbf321544",
   "metadata": {},
   "source": [
    "## Hello. mudaska"
   ]
  },
  {
   "cell_type": "code",
   "execution_count": 40,
   "id": "681d3f4d-568e-4cbb-a967-b767dc93242e",
   "metadata": {},
   "outputs": [
    {
     "name": "stdin",
     "output_type": "stream",
     "text": [
      "Number:  1\n"
     ]
    },
    {
     "name": "stdout",
     "output_type": "stream",
     "text": [
      "1\n",
      "<class 'int'>\n"
     ]
    },
    {
     "name": "stdin",
     "output_type": "stream",
     "text": [
      "Float:  1.2\n"
     ]
    },
    {
     "name": "stdout",
     "output_type": "stream",
     "text": [
      "1.2\n",
      "<class 'float'>\n"
     ]
    },
    {
     "name": "stdin",
     "output_type": "stream",
     "text": [
      "String:  fgd\n"
     ]
    },
    {
     "name": "stdout",
     "output_type": "stream",
     "text": [
      "fgd\n",
      "<class 'str'>\n"
     ]
    }
   ],
   "source": [
    "# 1) Write..print and type of every data type\n",
    "\n",
    "n = int(input(\"Number: \"))\n",
    "print(n)\n",
    "print(type(n))\n",
    "\n",
    "flt = float(input(\"Float: \"))\n",
    "print(flt)\n",
    "print(type(flt))\n",
    "\n",
    "strn = input(\"String: \")\n",
    "print(strn)\n",
    "print(type(strn))"
   ]
  },
  {
   "cell_type": "code",
   "execution_count": 74,
   "id": "4c4100c5-581c-4f24-a707-2b05eec9993d",
   "metadata": {},
   "outputs": [
    {
     "name": "stdin",
     "output_type": "stream",
     "text": [
      "Float number 1:  1.34\n",
      "Float number 2:  2.34542\n"
     ]
    },
    {
     "name": "stdout",
     "output_type": "stream",
     "text": [
      "Addition of 1.34 and 2.34542 is  3.69\n",
      "Subtraction of 1.34 and 2.34542 is -1.01\n",
      "Multiplication of 1.34 and 2.34542 is  3.14\n",
      "Division of 1.34 and 2.34542 is  0.57\n"
     ]
    }
   ],
   "source": [
    "# 2) Write...arithmetic operations till 2 decimal places\n",
    "\n",
    "n1 = float(input(\"Float number 1: \"))\n",
    "n2 = float(input(\"Float number 2: \"))\n",
    "print(f\"Addition of {n1} and {n2} is {n1 + n2 : .2f}\")\n",
    "print(f\"Subtraction of {n1} and {n2} is {n1 - n2 : .2f}\")\n",
    "print(f\"Multiplication of {n1} and {n2} is {n1 * n2 : .2f}\")\n",
    "print(f\"Division of {n1} and {n2} is {n1 / n2 : .2f}\")"
   ]
  },
  {
   "cell_type": "code",
   "execution_count": 56,
   "id": "5438641c-a11f-4d8d-8b91-30e5c6684296",
   "metadata": {},
   "outputs": [
    {
     "name": "stdout",
     "output_type": "stream",
     "text": [
      "12 is a integer\n",
      "12.0 is a float\n",
      "12 is a string\n",
      "\n",
      "int + flt =  24.0 , int - flt =  0.0 , int * flt =  144.0 , int / flt =  1.0\n",
      "int // flt =  1.0 , int % flt =  0.0 , int ** flt =  8916100448256.0\n"
     ]
    }
   ],
   "source": [
    "# 3) Write...different datatypes and operaions\n",
    "\n",
    "int = 12\n",
    "flt = 12.0\n",
    "str = \"12\"\n",
    "print(int, \"is a integer\")\n",
    "print(flt, \"is a float\")\n",
    "print(str, \"is a string\")\n",
    "print()\n",
    "print(\"int + flt = \", int + flt, \", int - flt = \", int - flt, \", int * flt = \", int * flt, \", int / flt = \", int / flt)\n",
    "print(\"int // flt = \", int // flt, \", int % flt = \", int % flt, \"int ** flt = \", int ** flt)"
   ]
  },
  {
   "cell_type": "code",
   "execution_count": 3,
   "id": "4d16f6f5-cc10-4baf-aa8f-48091e7fb72a",
   "metadata": {},
   "outputs": [
    {
     "name": "stdin",
     "output_type": "stream",
     "text": [
      "Integer number 1:  11\n",
      "Integer number 2:  15\n"
     ]
    },
    {
     "name": "stdout",
     "output_type": "stream",
     "text": [
      "Average is:  13.0\n",
      "Deviation for 11 is -2.0 and 15 is 2.0\n"
     ]
    }
   ],
   "source": [
    "# 4) Write...avg of 2 nums and print deviation\n",
    "num1 = int(input(\"Integer number 1: \"))\n",
    "num2 = int(input(\"Integer number 2: \"))\n",
    "avg = (num1 + num2) / 2\n",
    "print(\"Average is: \" , avg)\n",
    "dev1 = num1 - avg\n",
    "dev2 = num2 - avg\n",
    "print(f\"Deviation for {num1} is {dev1} and {num2} is {dev2}\")"
   ]
  }
 ],
 "metadata": {
  "kernelspec": {
   "display_name": "Python 3 (ipykernel)",
   "language": "python",
   "name": "python3"
  },
  "language_info": {
   "codemirror_mode": {
    "name": "ipython",
    "version": 3
   },
   "file_extension": ".py",
   "mimetype": "text/x-python",
   "name": "python",
   "nbconvert_exporter": "python",
   "pygments_lexer": "ipython3",
   "version": "3.12.4"
  }
 },
 "nbformat": 4,
 "nbformat_minor": 5
}
