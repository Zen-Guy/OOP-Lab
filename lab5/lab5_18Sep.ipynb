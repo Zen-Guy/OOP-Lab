{
 "cells": [
  {
   "cell_type": "code",
   "execution_count": 108,
   "id": "4e94dfe1-4828-4fed-be52-57676ca52ab6",
   "metadata": {},
   "outputs": [
    {
     "name": "stdin",
     "output_type": "stream",
     "text": [
      "Number:  175\n"
     ]
    },
    {
     "name": "stdout",
     "output_type": "stream",
     "text": [
      "Disarium\n"
     ]
    }
   ],
   "source": [
    "# 1) WAP to check for a Disarium Number\n",
    "num = int(input(\"Number: \"))\n",
    "places = 1\n",
    "while num // 10**places:\n",
    "    places += 1\n",
    "sum = 0\n",
    "cpy = num\n",
    "for i in range(places, 0, -1):\n",
    "    a = cpy // 10**(i-1)\n",
    "    a %= 10\n",
    "    sum += a ** (places-i+1)\n",
    "if sum == num:\n",
    "    print(\"Disarium\")\n",
    "else:\n",
    "    print(\"Not Disarium\")"
   ]
  },
  {
   "cell_type": "code",
   "execution_count": null,
   "id": "d2383e7f-10f1-48c9-ad09-0938e6078cb2",
   "metadata": {},
   "outputs": [],
   "source": [
    "# 2) WAP to check for Harshad Numbers\n",
    "n = int(input(\"Number: \"))\n",
    "l = len(str(n))\n",
    "temp = n\n",
    "ttl = 0\n",
    "for i in range(l):\n",
    "    ttl += temp % 10\n",
    "    temp //= 10\n",
    "if n % ttl:\n",
    "    print('Not Harshad')\n",
    "else:\n",
    "    print('Harshad')"
   ]
  },
  {
   "cell_type": "code",
   "execution_count": 110,
   "id": "90a141ea-50e6-497f-9592-03c6cf25cfb4",
   "metadata": {},
   "outputs": [
    {
     "name": "stdout",
     "output_type": "stream",
     "text": [
      "1 2 3 4 5 6 7 8 9 153 370 371 407 \n"
     ]
    }
   ],
   "source": [
    "# 3) Write a program to print Armstrong number from to 1000\n",
    "\n",
    "for i in range(1, 1001):\n",
    "    tmp = i\n",
    "    l = len(str(i))\n",
    "    ttl = 0\n",
    "    while tmp:\n",
    "        digit = tmp % 10\n",
    "        ttl += pow(digit, l)\n",
    "        tmp //= 10\n",
    "    if ttl == i:\n",
    "        print(i, end=\" \")\n",
    "print()"
   ]
  },
  {
   "cell_type": "code",
   "execution_count": 140,
   "id": "f5da5a87-53c5-49bd-82c9-d9f317599770",
   "metadata": {},
   "outputs": [
    {
     "name": "stdin",
     "output_type": "stream",
     "text": [
      "Number:  10\n",
      "Power:  3\n"
     ]
    },
    {
     "name": "stdout",
     "output_type": "stream",
     "text": [
      "1000\n"
     ]
    }
   ],
   "source": [
    "# 4) WAP to compute the value of X^n\n",
    "x = int(input(\"Number: \"))\n",
    "n = int(input(\"Power: \"))\n",
    "xn = 1\n",
    "for _ in range(n):\n",
    "    xn *= x\n",
    "print(xn)"
   ]
  },
  {
   "cell_type": "code",
   "execution_count": 152,
   "id": "92f7def1-67fc-43b8-970a-18651b482d0d",
   "metadata": {},
   "outputs": [
    {
     "name": "stdin",
     "output_type": "stream",
     "text": [
      "Total number[n]:  1\n",
      "Chosen number[r]:  1\n"
     ]
    },
    {
     "name": "stdout",
     "output_type": "stream",
     "text": [
      "1\n"
     ]
    }
   ],
   "source": [
    "# 5) WAP to calc nCr\n",
    "n = int(input(\"Total number[n]: \"))\n",
    "r = int(input(\"Chosen number[r]: \"))\n",
    "up = 1\n",
    "for i in range(1, n+1):\n",
    "    up *= i\n",
    "low = 1\n",
    "for i in range(1, r+1):\n",
    "    low *= i\n",
    "llow = 1\n",
    "for i in range(1, n-r+1):\n",
    "    llow *= i\n",
    "\n",
    "c = up / (low*llow)\n",
    "print(int(c))"
   ]
  },
  {
   "cell_type": "code",
   "execution_count": null,
   "id": "dd9f8b44-87fb-45c0-87ea-33a764882e61",
   "metadata": {},
   "outputs": [],
   "source": []
  }
 ],
 "metadata": {
  "kernelspec": {
   "display_name": "Python 3 (ipykernel)",
   "language": "python",
   "name": "python3"
  },
  "language_info": {
   "codemirror_mode": {
    "name": "ipython",
    "version": 3
   },
   "file_extension": ".py",
   "mimetype": "text/x-python",
   "name": "python",
   "nbconvert_exporter": "python",
   "pygments_lexer": "ipython3",
   "version": "3.12.4"
  }
 },
 "nbformat": 4,
 "nbformat_minor": 5
}
